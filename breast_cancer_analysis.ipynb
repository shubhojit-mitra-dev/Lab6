{
  "nbformat": 4,
  "nbformat_minor": 0,
  "metadata": {
    "colab": {
      "provenance": []
    },
    "kernelspec": {
      "name": "python3",
      "display_name": "Python 3"
    },
    "language_info": {
      "name": "python"
    }
  },
  "cells": [
    {
      "cell_type": "code",
      "execution_count": 3,
      "metadata": {
        "id": "40_YWy-eUOYS"
      },
      "outputs": [],
      "source": [
        "# Import the necessary libraries\n",
        "from sklearn.datasets import load_breast_cancer\n",
        "\n",
        "# Load the breast cancer dataset\n",
        "data = load_breast_cancer()"
      ]
    },
    {
      "cell_type": "markdown",
      "source": [
        "# Train Test Split"
      ],
      "metadata": {
        "id": "3Sd7uOj-h6P2"
      }
    },
    {
      "cell_type": "code",
      "source": [
        "from sklearn.model_selection import train_test_split\n",
        "\n",
        "X = data.data\n",
        "y = data.target"
      ],
      "metadata": {
        "id": "8D59kJwih92y"
      },
      "execution_count": 4,
      "outputs": []
    },
    {
      "cell_type": "code",
      "source": [
        "# Split the data into training and testing sets\n",
        "\n",
        "X_train, X_test, y_train, y_test = train_test_split(X, y, test_size=0.3, random_state=42)"
      ],
      "metadata": {
        "id": "Zn4MqEFYirOe"
      },
      "execution_count": 5,
      "outputs": []
    },
    {
      "cell_type": "markdown",
      "source": [
        "# Create KNN (K Nearest Neighbours)"
      ],
      "metadata": {
        "id": "UwBI6fECi8n-"
      }
    },
    {
      "cell_type": "code",
      "source": [
        "from sklearn.neighbors import KNeighborsClassifier\n",
        "from sklearn.metrics import accuracy_score"
      ],
      "metadata": {
        "id": "NmxQigRZjJDX"
      },
      "execution_count": 6,
      "outputs": []
    },
    {
      "cell_type": "code",
      "source": [
        "# Define function to evaluate KNN with different k values\n",
        "def evaluate_knn(k_values):\n",
        "    results = {}\n",
        "    for k in k_values:\n",
        "        knn = KNeighborsClassifier(n_neighbors=k)\n",
        "        knn.fit(X_train, y_train)\n",
        "        accuracy = knn.score(X_test, y_test)\n",
        "        results[k] = accuracy\n",
        "        print(f'Accuracy for k={k}: {accuracy * 100:.2f}%')\n",
        "    return results"
      ],
      "metadata": {
        "id": "1lD543tyi0ah"
      },
      "execution_count": 18,
      "outputs": []
    },
    {
      "cell_type": "code",
      "source": [
        "# K values to test\n",
        "k_values = [3, 5, 10, 15, 50, 100, len(X_train)]"
      ],
      "metadata": {
        "id": "MmiJ9zEdiKQU"
      },
      "execution_count": 27,
      "outputs": []
    },
    {
      "cell_type": "code",
      "source": [
        "# Evaluate the KNN model with different k values\n",
        "results = evaluate_knn(k_values)"
      ],
      "metadata": {
        "colab": {
          "base_uri": "https://localhost:8080/"
        },
        "id": "_NBTW742jcgN",
        "outputId": "5db09c0d-0829-4caf-d317-4ece6f5c007a"
      },
      "execution_count": 28,
      "outputs": [
        {
          "output_type": "stream",
          "name": "stdout",
          "text": [
            "Accuracy for k=3: 94.15%\n",
            "Accuracy for k=5: 95.91%\n",
            "Accuracy for k=10: 98.25%\n",
            "Accuracy for k=15: 96.49%\n",
            "Accuracy for k=50: 94.74%\n",
            "Accuracy for k=100: 92.98%\n",
            "Accuracy for k=398: 63.16%\n"
          ]
        }
      ]
    }
  ]
}